{
  "nbformat": 4,
  "nbformat_minor": 0,
  "metadata": {
    "colab": {
      "provenance": [],
      "gpuType": "T4",
      "authorship_tag": "ABX9TyN/wIlsFyysNqAmmYpcQzL7",
      "include_colab_link": true
    },
    "kernelspec": {
      "name": "python3",
      "display_name": "Python 3"
    },
    "language_info": {
      "name": "python"
    },
    "accelerator": "GPU"
  },
  "cells": [
    {
      "cell_type": "markdown",
      "metadata": {
        "id": "view-in-github",
        "colab_type": "text"
      },
      "source": [
        "<a href=\"https://colab.research.google.com/github/SayanDas07/KWS-using-FewShotLearning/blob/main/FineTuneTFmodel1.ipynb\" target=\"_parent\"><img src=\"https://colab.research.google.com/assets/colab-badge.svg\" alt=\"Open In Colab\"/></a>"
      ]
    },
    {
      "cell_type": "markdown",
      "source": [
        "10+3 Classes classifiers .... samples of 13..+ FT... brining the TL model from drive07. file name TL(only 3keywords).ipynb"
      ],
      "metadata": {
        "id": "b6ZuhnsnUm6a"
      }
    },
    {
      "cell_type": "code",
      "source": [
        "!nvidia-smi"
      ],
      "metadata": {
        "id": "oETNLsj8UveA",
        "colab": {
          "base_uri": "https://localhost:8080/"
        },
        "outputId": "99d099cb-0a92-4395-89e9-75f4f95e98d2"
      },
      "execution_count": 1,
      "outputs": [
        {
          "output_type": "stream",
          "name": "stdout",
          "text": [
            "Fri Jun 13 04:58:28 2025       \n",
            "+-----------------------------------------------------------------------------------------+\n",
            "| NVIDIA-SMI 550.54.15              Driver Version: 550.54.15      CUDA Version: 12.4     |\n",
            "|-----------------------------------------+------------------------+----------------------+\n",
            "| GPU  Name                 Persistence-M | Bus-Id          Disp.A | Volatile Uncorr. ECC |\n",
            "| Fan  Temp   Perf          Pwr:Usage/Cap |           Memory-Usage | GPU-Util  Compute M. |\n",
            "|                                         |                        |               MIG M. |\n",
            "|=========================================+========================+======================|\n",
            "|   0  Tesla T4                       Off |   00000000:00:04.0 Off |                    0 |\n",
            "| N/A   52C    P8             10W /   70W |       0MiB /  15360MiB |      0%      Default |\n",
            "|                                         |                        |                  N/A |\n",
            "+-----------------------------------------+------------------------+----------------------+\n",
            "                                                                                         \n",
            "+-----------------------------------------------------------------------------------------+\n",
            "| Processes:                                                                              |\n",
            "|  GPU   GI   CI        PID   Type   Process name                              GPU Memory |\n",
            "|        ID   ID                                                               Usage      |\n",
            "|=========================================================================================|\n",
            "|  No running processes found                                                             |\n",
            "+-----------------------------------------------------------------------------------------+\n"
          ]
        }
      ]
    },
    {
      "cell_type": "code",
      "source": [
        "from google.colab import drive\n",
        "drive.mount('/content/drive')"
      ],
      "metadata": {
        "colab": {
          "base_uri": "https://localhost:8080/"
        },
        "id": "G09NDwvhp1QP",
        "outputId": "2f49db60-65fa-4d21-a29c-171d30c30d4a"
      },
      "execution_count": 2,
      "outputs": [
        {
          "output_type": "stream",
          "name": "stdout",
          "text": [
            "Mounted at /content/drive\n"
          ]
        }
      ]
    },
    {
      "cell_type": "code",
      "source": [
        "import os\n",
        "import numpy as np\n",
        "import librosa\n",
        "from sklearn.model_selection import train_test_split\n",
        "from tensorflow.keras.models import load_model, Model\n",
        "from tensorflow.keras import layers\n",
        "from tensorflow.keras.utils import to_categorical\n",
        "from sklearn.metrics import classification_report, confusion_matrix"
      ],
      "metadata": {
        "id": "bU3EP-lbp2Jn"
      },
      "execution_count": 3,
      "outputs": []
    },
    {
      "cell_type": "code",
      "source": [
        "!wget -O speech_commands_v0.02.tar.gz http://download.tensorflow.org/data/speech_commands_v0.02.tar.gz"
      ],
      "metadata": {
        "colab": {
          "base_uri": "https://localhost:8080/"
        },
        "id": "1cZIziuHp5Xk",
        "outputId": "aa9f8fea-963e-47fe-d481-ccf240b1cc52"
      },
      "execution_count": 4,
      "outputs": [
        {
          "output_type": "stream",
          "name": "stdout",
          "text": [
            "--2025-06-13 04:58:56--  http://download.tensorflow.org/data/speech_commands_v0.02.tar.gz\n",
            "Resolving download.tensorflow.org (download.tensorflow.org)... 142.251.107.207, 74.125.196.207, 173.194.216.207, ...\n",
            "Connecting to download.tensorflow.org (download.tensorflow.org)|142.251.107.207|:80... connected.\n",
            "HTTP request sent, awaiting response... 200 OK\n",
            "Length: 2428923189 (2.3G) [application/gzip]\n",
            "Saving to: ‘speech_commands_v0.02.tar.gz’\n",
            "\n",
            "speech_commands_v0. 100%[===================>]   2.26G   203MB/s    in 10s     \n",
            "\n",
            "2025-06-13 04:59:07 (222 MB/s) - ‘speech_commands_v0.02.tar.gz’ saved [2428923189/2428923189]\n",
            "\n"
          ]
        }
      ]
    },
    {
      "cell_type": "code",
      "source": [
        "!mkdir -p data_10_wav/data"
      ],
      "metadata": {
        "id": "rW70Gs8gp6nv"
      },
      "execution_count": 5,
      "outputs": []
    },
    {
      "cell_type": "code",
      "source": [
        "!tar -xzf speech_commands_v0.02.tar.gz -C data_10_wav/data"
      ],
      "metadata": {
        "id": "MrqSr9Qcp-Bu"
      },
      "execution_count": 6,
      "outputs": []
    },
    {
      "cell_type": "code",
      "source": [
        "DATASET_PATH = \"data_10_wav/data/\"\n",
        "save_path = \"/content/drive/MyDrive/NITDGP/TL Variations /10+3Classes\""
      ],
      "metadata": {
        "id": "HPdq5DW9p_Xz"
      },
      "execution_count": 82,
      "outputs": []
    },
    {
      "cell_type": "code",
      "source": [
        "SAMPLES_TO_CONSIDER = 16000\n",
        "frame_length = int(SAMPLES_TO_CONSIDER * (32 / 1000))\n",
        "hop_length = int(SAMPLES_TO_CONSIDER * (16 / 1000))\n",
        "\n",
        "\n",
        "os.makedirs(DATASET_PATH, exist_ok=True)\n",
        "os.makedirs(save_path, exist_ok=True)"
      ],
      "metadata": {
        "id": "l56sspfAqBnN"
      },
      "execution_count": 83,
      "outputs": []
    },
    {
      "cell_type": "code",
      "source": [
        "print(\"frame_length:\", frame_length)\n",
        "print(\"hop_length:\", hop_length)"
      ],
      "metadata": {
        "colab": {
          "base_uri": "https://localhost:8080/"
        },
        "id": "A7Ia1a7lqCxm",
        "outputId": "34f7c778-608f-4387-8d4c-585c20819091"
      },
      "execution_count": 84,
      "outputs": [
        {
          "output_type": "stream",
          "name": "stdout",
          "text": [
            "frame_length: 512\n",
            "hop_length: 256\n"
          ]
        }
      ]
    },
    {
      "cell_type": "code",
      "source": [
        "new_keywords = ['tree', 'marvin', 'one']\n",
        "keyword_list = ['off', 'left', 'down', 'up', 'go', 'on', 'stop', 'right', 'yes']\n",
        "all_keywords = new_keywords + keyword_list\n",
        "existing_keyword_index = {k: i for i, k in enumerate(keyword_list)}\n",
        "new_keyword_index = {k: i + len(keyword_list) for i, k in enumerate(new_keywords)}\n",
        "print(existing_keyword_index)\n",
        "print(new_keyword_index)\n"
      ],
      "metadata": {
        "colab": {
          "base_uri": "https://localhost:8080/"
        },
        "id": "KkRISqoaqDzg",
        "outputId": "79f0d52e-71ca-461d-b822-700829e163dd"
      },
      "execution_count": 85,
      "outputs": [
        {
          "output_type": "stream",
          "name": "stdout",
          "text": [
            "{'off': 0, 'left': 1, 'down': 2, 'up': 3, 'go': 4, 'on': 5, 'stop': 6, 'right': 7, 'yes': 8}\n",
            "{'tree': 9, 'marvin': 10, 'one': 11}\n"
          ]
        }
      ]
    },
    {
      "cell_type": "code",
      "source": [
        "def hamming_window(length):\n",
        "    return 0.54 - 0.46 * np.cos(2 * np.pi * np.arange(length) / (length - 1))"
      ],
      "metadata": {
        "id": "zxXEeAQkqExF"
      },
      "execution_count": 86,
      "outputs": []
    },
    {
      "cell_type": "code",
      "source": [
        "labels = []\n",
        "log_mel_spectrograms = []"
      ],
      "metadata": {
        "id": "xipXkPhWqGka"
      },
      "execution_count": 87,
      "outputs": []
    },
    {
      "cell_type": "code",
      "source": [
        "class_sample_counts = {kw: 0 for kw in all_keywords}"
      ],
      "metadata": {
        "id": "c1JQPvpvqHVa"
      },
      "execution_count": 88,
      "outputs": []
    },
    {
      "cell_type": "code",
      "source": [
        "for dirpath, dirnames, filenames in os.walk(DATASET_PATH):\n",
        "    label = os.path.basename(dirpath)\n",
        "    if label not in all_keywords:\n",
        "        continue\n",
        "\n",
        "    max_samples = 500 if label in new_keywords else 300\n",
        "    print(f\"\\nProcessing: '{label}' (Max {max_samples} samples)\")\n",
        "\n",
        "    for f in filenames:\n",
        "        file_path = os.path.join(dirpath, f)\n",
        "        try:\n",
        "            signal, _ = librosa.load(file_path, sr=16000)\n",
        "        except Exception as e:\n",
        "            print(f\"Error loading {file_path}: {e}\")\n",
        "            continue\n",
        "\n",
        "        if len(signal) >= SAMPLES_TO_CONSIDER:\n",
        "            signal = signal[:SAMPLES_TO_CONSIDER]\n",
        "        else:\n",
        "            signal = np.pad(signal, (SAMPLES_TO_CONSIDER - len(signal), 0), mode='constant')\n",
        "\n",
        "        signal = signal.astype(np.float32)\n",
        "        windowed = signal * hamming_window(SAMPLES_TO_CONSIDER)\n",
        "\n",
        "        mel_spec = librosa.feature.melspectrogram(\n",
        "            y=windowed,\n",
        "            sr=16000,\n",
        "            n_mels=40,\n",
        "            n_fft=frame_length,\n",
        "            win_length=frame_length,\n",
        "            hop_length=hop_length,\n",
        "            center=False\n",
        "        )\n",
        "\n",
        "        log_mel = librosa.power_to_db(mel_spec, ref=np.max)\n",
        "        log_mel_spectrograms.append(log_mel.T)\n",
        "\n",
        "        if label in new_keywords:\n",
        "            labels.append(new_keyword_index[label])\n",
        "        else:\n",
        "            labels.append(existing_keyword_index[label])\n",
        "\n",
        "        class_sample_counts[label] += 1\n",
        "        if class_sample_counts[label] >= max_samples:\n",
        "            break"
      ],
      "metadata": {
        "colab": {
          "base_uri": "https://localhost:8080/"
        },
        "id": "DQudWGCLqIai",
        "outputId": "14e07b96-09de-46f9-e01f-ccadd3f8b30c"
      },
      "execution_count": 89,
      "outputs": [
        {
          "output_type": "stream",
          "name": "stdout",
          "text": [
            "\n",
            "Processing: 'up' (Max 300 samples)\n",
            "\n",
            "Processing: 'on' (Max 300 samples)\n",
            "\n",
            "Processing: 'down' (Max 300 samples)\n",
            "\n",
            "Processing: 'one' (Max 500 samples)\n",
            "\n",
            "Processing: 'off' (Max 300 samples)\n",
            "\n",
            "Processing: 'stop' (Max 300 samples)\n",
            "\n",
            "Processing: 'left' (Max 300 samples)\n",
            "\n",
            "Processing: 'right' (Max 300 samples)\n",
            "\n",
            "Processing: 'tree' (Max 500 samples)\n",
            "\n",
            "Processing: 'marvin' (Max 500 samples)\n",
            "\n",
            "Processing: 'yes' (Max 300 samples)\n",
            "\n",
            "Processing: 'go' (Max 300 samples)\n"
          ]
        }
      ]
    },
    {
      "cell_type": "code",
      "source": [
        "np.save(os.path.join(save_path, 'X_log_mel_spectrograms_TL3.npy'), np.array(log_mel_spectrograms))\n",
        "np.save(os.path.join(save_path, 'y_log_mel_spectrograms_TL3.npy'), np.array(labels))\n",
        "print(\"Feature extraction done and saved.\")\n"
      ],
      "metadata": {
        "colab": {
          "base_uri": "https://localhost:8080/"
        },
        "id": "yYWAEfwmqJp5",
        "outputId": "3d4c7ed7-c265-4972-f1a5-694d05ed1944"
      },
      "execution_count": 90,
      "outputs": [
        {
          "output_type": "stream",
          "name": "stdout",
          "text": [
            "Feature extraction done and saved.\n"
          ]
        }
      ]
    },
    {
      "cell_type": "code",
      "source": [
        "X = np.load(os.path.join(save_path, 'X_log_mel_spectrograms_TL3.npy'))\n",
        "y = np.load(os.path.join(save_path, 'y_log_mel_spectrograms_TL3.npy'))"
      ],
      "metadata": {
        "id": "c_zQhdlQs91l"
      },
      "execution_count": 91,
      "outputs": []
    },
    {
      "cell_type": "code",
      "source": [
        "print(\"X shape:\", X.shape)  # (num_samples, time_steps, n_mels)\n",
        "print(\"y shape:\", y.shape)  # (num_samples,)\n"
      ],
      "metadata": {
        "colab": {
          "base_uri": "https://localhost:8080/"
        },
        "id": "WqH4onyPs_XU",
        "outputId": "e2879f78-b100-4119-c141-5ccd47b3aed5"
      },
      "execution_count": 92,
      "outputs": [
        {
          "output_type": "stream",
          "name": "stdout",
          "text": [
            "X shape: (4200, 61, 40)\n",
            "y shape: (4200,)\n"
          ]
        }
      ]
    },
    {
      "cell_type": "code",
      "source": [
        "from collections import Counter\n",
        "\n",
        "# Combine both mappings: new + existing\n",
        "keyword_to_index = {**existing_keyword_index, **new_keyword_index}\n",
        "inv_label_map = {v: k for k, v in keyword_to_index.items()}\n",
        "\n",
        "# Assuming `y` contains class indices (0–12)\n",
        "label_counts = Counter(y)\n",
        "\n",
        "for label_idx in sorted(label_counts):\n",
        "    label_name = inv_label_map.get(label_idx, 'unknown')\n",
        "    print(f\"{label_name}: {label_counts[label_idx]} samples\")\n"
      ],
      "metadata": {
        "colab": {
          "base_uri": "https://localhost:8080/"
        },
        "id": "dHpLmaFMtAMg",
        "outputId": "702225e4-ce66-41eb-e46a-13f6c4d65bc8"
      },
      "execution_count": 140,
      "outputs": [
        {
          "output_type": "stream",
          "name": "stdout",
          "text": [
            "off: 300 samples\n",
            "left: 300 samples\n",
            "down: 300 samples\n",
            "up: 300 samples\n",
            "go: 300 samples\n",
            "on: 300 samples\n",
            "stop: 300 samples\n",
            "right: 300 samples\n",
            "yes: 300 samples\n",
            "tree: 500 samples\n",
            "marvin: 500 samples\n",
            "one: 500 samples\n"
          ]
        }
      ]
    },
    {
      "cell_type": "code",
      "source": [
        "# Normalize\n",
        "X = np.array([x / np.max(np.abs(x)) if np.max(np.abs(x)) > 0 else x for x in X])\n",
        "\n",
        "# ✅ Remove extra dims and reshape correctly\n",
        "X = np.squeeze(X)  # removes all dimensions of size 1, if any\n",
        "if X.ndim == 3:\n",
        "    X = X[..., np.newaxis]  # adds only (61, 40, 1) as required\n",
        "y_cat = to_categorical(y, 13)"
      ],
      "metadata": {
        "id": "piHmFRn-tBZ-"
      },
      "execution_count": 141,
      "outputs": []
    },
    {
      "cell_type": "code",
      "source": [
        "print(\"X shape:\", X.shape)  # (num_samples, time_steps, n_mels)\n",
        "print(\"y shape:\", y.shape)  # (num_samples,)\n"
      ],
      "metadata": {
        "colab": {
          "base_uri": "https://localhost:8080/"
        },
        "id": "dK_Y_VOjtC0q",
        "outputId": "35353e38-e76a-47f1-e930-e93e9efc8e67"
      },
      "execution_count": 142,
      "outputs": [
        {
          "output_type": "stream",
          "name": "stdout",
          "text": [
            "X shape: (4200, 61, 40, 1)\n",
            "y shape: (4200,)\n"
          ]
        }
      ]
    },
    {
      "cell_type": "code",
      "source": [
        "tf_model = load_model(\"/content/CNN_TLMODE.h5\")"
      ],
      "metadata": {
        "colab": {
          "base_uri": "https://localhost:8080/"
        },
        "id": "eKeMfjiTtDt7",
        "outputId": "bcca8000-0eaa-4f56-c0e9-3a8256817267"
      },
      "execution_count": 143,
      "outputs": [
        {
          "output_type": "stream",
          "name": "stderr",
          "text": [
            "WARNING:absl:Compiled the loaded model, but the compiled metrics have yet to be built. `model.compile_metrics` will be empty until you train or evaluate the model.\n"
          ]
        }
      ]
    },
    {
      "cell_type": "code",
      "source": [
        "for i, layer in enumerate(tf_model.layers):\n",
        "    print(i, layer.name)\n"
      ],
      "metadata": {
        "colab": {
          "base_uri": "https://localhost:8080/"
        },
        "id": "pbhFeGw45JTO",
        "outputId": "cfad0f20-134a-4ac5-f22e-275f6db4402c"
      },
      "execution_count": 144,
      "outputs": [
        {
          "output_type": "stream",
          "name": "stdout",
          "text": [
            "0 input_layer\n",
            "1 conv2d\n",
            "2 relu1_1\n",
            "3 conv2d_1\n",
            "4 relu1_2\n",
            "5 max_pooling2d\n",
            "6 conv2d_3\n",
            "7 re_lu\n",
            "8 conv2d_4\n",
            "9 conv2d_2\n",
            "10 max_pooling2d_1\n",
            "11 batch_normalization\n",
            "12 add\n",
            "13 res_relu_0\n",
            "14 gap\n",
            "15 fc1\n",
            "16 dropout1\n",
            "17 fc2\n",
            "18 dropout2\n",
            "19 fc3\n",
            "20 dropout3\n",
            "21 fc4\n",
            "22 dropout4\n",
            "23 fc5\n",
            "24 dropout5\n",
            "25 fc6\n",
            "26 dropout6\n",
            "27 fc7\n",
            "28 dropout7\n",
            "29 output\n"
          ]
        }
      ]
    },
    {
      "cell_type": "code",
      "source": [
        "# Unfreeze from fc2 (index 17) onward\n",
        "for i, layer in enumerate(tf_model.layers):\n",
        "    layer.trainable = (i >= 17)\n"
      ],
      "metadata": {
        "id": "KMpGDtHutEev"
      },
      "execution_count": 145,
      "outputs": []
    },
    {
      "cell_type": "code",
      "source": [
        "from tensorflow.keras import layers, optimizers, callbacks\n",
        "from tensorflow.keras.optimizers import Adam\n",
        "optimizer = optimizers.Adam(learning_rate=1e-4)"
      ],
      "metadata": {
        "id": "Z0SBiIyftJqz"
      },
      "execution_count": 146,
      "outputs": []
    },
    {
      "cell_type": "code",
      "source": [
        "tf_model.compile(optimizer=optimizer,\n",
        "                 loss='categorical_crossentropy',\n",
        "                 metrics=['accuracy'])"
      ],
      "metadata": {
        "id": "vsl1YqULtMbn"
      },
      "execution_count": 147,
      "outputs": []
    },
    {
      "cell_type": "code",
      "source": [
        "from tensorflow.keras.callbacks import EarlyStopping, ModelCheckpoint\n",
        "\n",
        "checkpoint_path = \"/content/drive/MyDrive/NITDGP/TL Variations /10+3Classes/FT_model_13class.h5\"\n",
        "ckpt = callbacks.ModelCheckpoint(checkpoint_path, monitor='val_accuracy', save_best_only=True, verbose=1)\n",
        "early_stop = callbacks.EarlyStopping(monitor='val_loss', patience=5, restore_best_weights=True)"
      ],
      "metadata": {
        "id": "6Videwr2xlHU"
      },
      "execution_count": 148,
      "outputs": []
    },
    {
      "cell_type": "code",
      "source": [
        "from sklearn.model_selection import train_test_split\n",
        "X_train, X_val, y_train, y_val = train_test_split(X, y_cat, test_size=0.2, stratify=y, random_state=42)"
      ],
      "metadata": {
        "id": "5_3i1-Q0xqT-"
      },
      "execution_count": 149,
      "outputs": []
    },
    {
      "cell_type": "code",
      "source": [
        "history = tf_model.fit(\n",
        "    X_train, y_train,\n",
        "    validation_data=(X_val, y_val),\n",
        "    epochs=50,\n",
        "    batch_size=32,\n",
        "    callbacks=[ckpt, early_stop],\n",
        "    verbose=1\n",
        ")"
      ],
      "metadata": {
        "colab": {
          "base_uri": "https://localhost:8080/"
        },
        "id": "cSIXEly1xv-i",
        "outputId": "20637abd-fabc-453b-f6c4-3ec7bf1c32a2"
      },
      "execution_count": 150,
      "outputs": [
        {
          "output_type": "stream",
          "name": "stdout",
          "text": [
            "Epoch 1/50\n",
            "\u001b[1m105/105\u001b[0m \u001b[32m━━━━━━━━━━━━━━━━━━━━\u001b[0m\u001b[37m\u001b[0m \u001b[1m0s\u001b[0m 6ms/step - accuracy: 0.1250 - loss: 12.5588\n",
            "Epoch 1: val_accuracy improved from -inf to 0.20000, saving model to /content/drive/MyDrive/NITDGP/TL Variations /10+3Classes/FT_model_13class.h5\n"
          ]
        },
        {
          "output_type": "stream",
          "name": "stderr",
          "text": [
            "WARNING:absl:You are saving your model as an HDF5 file via `model.save()` or `keras.saving.save_model(model)`. This file format is considered legacy. We recommend using instead the native Keras format, e.g. `model.save('my_model.keras')` or `keras.saving.save_model(model, 'my_model.keras')`. \n"
          ]
        },
        {
          "output_type": "stream",
          "name": "stdout",
          "text": [
            "\b\b\b\b\b\b\b\b\b\b\b\b\b\b\b\b\b\b\b\b\b\b\b\b\b\b\b\b\b\b\b\b\b\b\b\b\b\b\b\b\b\b\b\b\b\b\b\b\b\b\b\b\b\b\b\b\b\b\b\b\b\b\b\b\b\b\b\b\b\b\b\b\b\b\b\r\u001b[1m105/105\u001b[0m \u001b[32m━━━━━━━━━━━━━━━━━━━━\u001b[0m\u001b[37m\u001b[0m \u001b[1m11s\u001b[0m 25ms/step - accuracy: 0.1251 - loss: 12.5284 - val_accuracy: 0.2000 - val_loss: 3.5046\n",
            "Epoch 2/50\n",
            "\u001b[1m 98/105\u001b[0m \u001b[32m━━━━━━━━━━━━━━━━━━\u001b[0m\u001b[37m━━\u001b[0m \u001b[1m0s\u001b[0m 6ms/step - accuracy: 0.1423 - loss: 4.1096\n",
            "Epoch 2: val_accuracy improved from 0.20000 to 0.24167, saving model to /content/drive/MyDrive/NITDGP/TL Variations /10+3Classes/FT_model_13class.h5\n"
          ]
        },
        {
          "output_type": "stream",
          "name": "stderr",
          "text": [
            "WARNING:absl:You are saving your model as an HDF5 file via `model.save()` or `keras.saving.save_model(model)`. This file format is considered legacy. We recommend using instead the native Keras format, e.g. `model.save('my_model.keras')` or `keras.saving.save_model(model, 'my_model.keras')`. \n"
          ]
        },
        {
          "output_type": "stream",
          "name": "stdout",
          "text": [
            "\b\b\b\b\b\b\b\b\b\b\b\b\b\b\b\b\b\b\b\b\b\b\b\b\b\b\b\b\b\b\b\b\b\b\b\b\b\b\b\b\b\b\b\b\b\b\b\b\b\b\b\b\b\b\b\b\b\b\b\b\b\b\b\b\b\b\b\b\b\b\b\b\b\b\r\u001b[1m105/105\u001b[0m \u001b[32m━━━━━━━━━━━━━━━━━━━━\u001b[0m\u001b[37m\u001b[0m \u001b[1m1s\u001b[0m 10ms/step - accuracy: 0.1433 - loss: 4.0697 - val_accuracy: 0.2417 - val_loss: 2.1823\n",
            "Epoch 3/50\n",
            "\u001b[1m 99/105\u001b[0m \u001b[32m━━━━━━━━━━━━━━━━━━\u001b[0m\u001b[37m━━\u001b[0m \u001b[1m0s\u001b[0m 5ms/step - accuracy: 0.1945 - loss: 2.6308\n",
            "Epoch 3: val_accuracy improved from 0.24167 to 0.37738, saving model to /content/drive/MyDrive/NITDGP/TL Variations /10+3Classes/FT_model_13class.h5\n"
          ]
        },
        {
          "output_type": "stream",
          "name": "stderr",
          "text": [
            "WARNING:absl:You are saving your model as an HDF5 file via `model.save()` or `keras.saving.save_model(model)`. This file format is considered legacy. We recommend using instead the native Keras format, e.g. `model.save('my_model.keras')` or `keras.saving.save_model(model, 'my_model.keras')`. \n"
          ]
        },
        {
          "output_type": "stream",
          "name": "stdout",
          "text": [
            "\b\b\b\b\b\b\b\b\b\b\b\b\b\b\b\b\b\b\b\b\b\b\b\b\b\b\b\b\b\b\b\b\b\b\b\b\b\b\b\b\b\b\b\b\b\b\b\b\b\b\b\b\b\b\b\b\b\b\b\b\b\b\b\b\b\b\b\b\b\b\b\b\b\b\r\u001b[1m105/105\u001b[0m \u001b[32m━━━━━━━━━━━━━━━━━━━━\u001b[0m\u001b[37m\u001b[0m \u001b[1m1s\u001b[0m 8ms/step - accuracy: 0.1961 - loss: 2.6242 - val_accuracy: 0.3774 - val_loss: 2.0257\n",
            "Epoch 4/50\n",
            "\u001b[1m101/105\u001b[0m \u001b[32m━━━━━━━━━━━━━━━━━━━\u001b[0m\u001b[37m━\u001b[0m \u001b[1m0s\u001b[0m 5ms/step - accuracy: 0.2516 - loss: 2.2812\n",
            "Epoch 4: val_accuracy improved from 0.37738 to 0.48571, saving model to /content/drive/MyDrive/NITDGP/TL Variations /10+3Classes/FT_model_13class.h5\n"
          ]
        },
        {
          "output_type": "stream",
          "name": "stderr",
          "text": [
            "WARNING:absl:You are saving your model as an HDF5 file via `model.save()` or `keras.saving.save_model(model)`. This file format is considered legacy. We recommend using instead the native Keras format, e.g. `model.save('my_model.keras')` or `keras.saving.save_model(model, 'my_model.keras')`. \n"
          ]
        },
        {
          "output_type": "stream",
          "name": "stdout",
          "text": [
            "\b\b\b\b\b\b\b\b\b\b\b\b\b\b\b\b\b\b\b\b\b\b\b\b\b\b\b\b\b\b\b\b\b\b\b\b\b\b\b\b\b\b\b\b\b\b\b\b\b\b\b\b\b\b\b\b\b\b\b\b\b\b\b\b\b\b\b\b\b\b\b\b\b\b\r\u001b[1m105/105\u001b[0m \u001b[32m━━━━━━━━━━━━━━━━━━━━\u001b[0m\u001b[37m\u001b[0m \u001b[1m1s\u001b[0m 8ms/step - accuracy: 0.2517 - loss: 2.2792 - val_accuracy: 0.4857 - val_loss: 1.8685\n",
            "Epoch 5/50\n",
            "\u001b[1m 99/105\u001b[0m \u001b[32m━━━━━━━━━━━━━━━━━━\u001b[0m\u001b[37m━━\u001b[0m \u001b[1m0s\u001b[0m 6ms/step - accuracy: 0.3121 - loss: 2.0902\n",
            "Epoch 5: val_accuracy improved from 0.48571 to 0.68333, saving model to /content/drive/MyDrive/NITDGP/TL Variations /10+3Classes/FT_model_13class.h5\n"
          ]
        },
        {
          "output_type": "stream",
          "name": "stderr",
          "text": [
            "WARNING:absl:You are saving your model as an HDF5 file via `model.save()` or `keras.saving.save_model(model)`. This file format is considered legacy. We recommend using instead the native Keras format, e.g. `model.save('my_model.keras')` or `keras.saving.save_model(model, 'my_model.keras')`. \n"
          ]
        },
        {
          "output_type": "stream",
          "name": "stdout",
          "text": [
            "\b\b\b\b\b\b\b\b\b\b\b\b\b\b\b\b\b\b\b\b\b\b\b\b\b\b\b\b\b\b\b\b\b\b\b\b\b\b\b\b\b\b\b\b\b\b\b\b\b\b\b\b\b\b\b\b\b\b\b\b\b\b\b\b\b\b\b\b\b\b\b\b\b\b\r\u001b[1m105/105\u001b[0m \u001b[32m━━━━━━━━━━━━━━━━━━━━\u001b[0m\u001b[37m\u001b[0m \u001b[1m2s\u001b[0m 12ms/step - accuracy: 0.3129 - loss: 2.0867 - val_accuracy: 0.6833 - val_loss: 1.6830\n",
            "Epoch 6/50\n",
            "\u001b[1m102/105\u001b[0m \u001b[32m━━━━━━━━━━━━━━━━━━━\u001b[0m\u001b[37m━\u001b[0m \u001b[1m0s\u001b[0m 7ms/step - accuracy: 0.3922 - loss: 1.8325\n",
            "Epoch 6: val_accuracy improved from 0.68333 to 0.76548, saving model to /content/drive/MyDrive/NITDGP/TL Variations /10+3Classes/FT_model_13class.h5\n"
          ]
        },
        {
          "output_type": "stream",
          "name": "stderr",
          "text": [
            "WARNING:absl:You are saving your model as an HDF5 file via `model.save()` or `keras.saving.save_model(model)`. This file format is considered legacy. We recommend using instead the native Keras format, e.g. `model.save('my_model.keras')` or `keras.saving.save_model(model, 'my_model.keras')`. \n"
          ]
        },
        {
          "output_type": "stream",
          "name": "stdout",
          "text": [
            "\b\b\b\b\b\b\b\b\b\b\b\b\b\b\b\b\b\b\b\b\b\b\b\b\b\b\b\b\b\b\b\b\b\b\b\b\b\b\b\b\b\b\b\b\b\b\b\b\b\b\b\b\b\b\b\b\b\b\b\b\b\b\b\b\b\b\b\b\b\b\b\b\b\b\r\u001b[1m105/105\u001b[0m \u001b[32m━━━━━━━━━━━━━━━━━━━━\u001b[0m\u001b[37m\u001b[0m \u001b[1m1s\u001b[0m 10ms/step - accuracy: 0.3919 - loss: 1.8327 - val_accuracy: 0.7655 - val_loss: 1.4631\n",
            "Epoch 7/50\n",
            "\u001b[1m 97/105\u001b[0m \u001b[32m━━━━━━━━━━━━━━━━━━\u001b[0m\u001b[37m━━\u001b[0m \u001b[1m0s\u001b[0m 5ms/step - accuracy: 0.4224 - loss: 1.7061\n",
            "Epoch 7: val_accuracy improved from 0.76548 to 0.78571, saving model to /content/drive/MyDrive/NITDGP/TL Variations /10+3Classes/FT_model_13class.h5\n"
          ]
        },
        {
          "output_type": "stream",
          "name": "stderr",
          "text": [
            "WARNING:absl:You are saving your model as an HDF5 file via `model.save()` or `keras.saving.save_model(model)`. This file format is considered legacy. We recommend using instead the native Keras format, e.g. `model.save('my_model.keras')` or `keras.saving.save_model(model, 'my_model.keras')`. \n"
          ]
        },
        {
          "output_type": "stream",
          "name": "stdout",
          "text": [
            "\b\b\b\b\b\b\b\b\b\b\b\b\b\b\b\b\b\b\b\b\b\b\b\b\b\b\b\b\b\b\b\b\b\b\b\b\b\b\b\b\b\b\b\b\b\b\b\b\b\b\b\b\b\b\b\b\b\b\b\b\b\b\b\b\b\b\b\b\b\b\b\b\b\b\r\u001b[1m105/105\u001b[0m \u001b[32m━━━━━━━━━━━━━━━━━━━━\u001b[0m\u001b[37m\u001b[0m \u001b[1m1s\u001b[0m 8ms/step - accuracy: 0.4240 - loss: 1.7022 - val_accuracy: 0.7857 - val_loss: 1.2371\n",
            "Epoch 8/50\n",
            "\u001b[1m104/105\u001b[0m \u001b[32m━━━━━━━━━━━━━━━━━━━\u001b[0m\u001b[37m━\u001b[0m \u001b[1m0s\u001b[0m 5ms/step - accuracy: 0.5018 - loss: 1.5304\n",
            "Epoch 8: val_accuracy improved from 0.78571 to 0.79405, saving model to /content/drive/MyDrive/NITDGP/TL Variations /10+3Classes/FT_model_13class.h5\n"
          ]
        },
        {
          "output_type": "stream",
          "name": "stderr",
          "text": [
            "WARNING:absl:You are saving your model as an HDF5 file via `model.save()` or `keras.saving.save_model(model)`. This file format is considered legacy. We recommend using instead the native Keras format, e.g. `model.save('my_model.keras')` or `keras.saving.save_model(model, 'my_model.keras')`. \n"
          ]
        },
        {
          "output_type": "stream",
          "name": "stdout",
          "text": [
            "\b\b\b\b\b\b\b\b\b\b\b\b\b\b\b\b\b\b\b\b\b\b\b\b\b\b\b\b\b\b\b\b\b\b\b\b\b\b\b\b\b\b\b\b\b\b\b\b\b\b\b\b\b\b\b\b\b\b\b\b\b\b\b\b\b\b\b\b\b\b\b\b\b\b\r\u001b[1m105/105\u001b[0m \u001b[32m━━━━━━━━━━━━━━━━━━━━\u001b[0m\u001b[37m\u001b[0m \u001b[1m1s\u001b[0m 8ms/step - accuracy: 0.5020 - loss: 1.5292 - val_accuracy: 0.7940 - val_loss: 1.0171\n",
            "Epoch 9/50\n",
            "\u001b[1m101/105\u001b[0m \u001b[32m━━━━━━━━━━━━━━━━━━━\u001b[0m\u001b[37m━\u001b[0m \u001b[1m0s\u001b[0m 5ms/step - accuracy: 0.5443 - loss: 1.3248\n",
            "Epoch 9: val_accuracy did not improve from 0.79405\n",
            "\u001b[1m105/105\u001b[0m \u001b[32m━━━━━━━━━━━━━━━━━━━━\u001b[0m\u001b[37m\u001b[0m \u001b[1m1s\u001b[0m 7ms/step - accuracy: 0.5448 - loss: 1.3239 - val_accuracy: 0.7679 - val_loss: 0.8496\n",
            "Epoch 10/50\n",
            "\u001b[1m105/105\u001b[0m \u001b[32m━━━━━━━━━━━━━━━━━━━━\u001b[0m\u001b[37m\u001b[0m \u001b[1m0s\u001b[0m 5ms/step - accuracy: 0.5994 - loss: 1.1821\n",
            "Epoch 10: val_accuracy improved from 0.79405 to 0.82619, saving model to /content/drive/MyDrive/NITDGP/TL Variations /10+3Classes/FT_model_13class.h5\n"
          ]
        },
        {
          "output_type": "stream",
          "name": "stderr",
          "text": [
            "WARNING:absl:You are saving your model as an HDF5 file via `model.save()` or `keras.saving.save_model(model)`. This file format is considered legacy. We recommend using instead the native Keras format, e.g. `model.save('my_model.keras')` or `keras.saving.save_model(model, 'my_model.keras')`. \n"
          ]
        },
        {
          "output_type": "stream",
          "name": "stdout",
          "text": [
            "\b\b\b\b\b\b\b\b\b\b\b\b\b\b\b\b\b\b\b\b\b\b\b\b\b\b\b\b\b\b\b\b\b\b\b\b\b\b\b\b\b\b\b\b\b\b\b\b\b\b\b\b\b\b\b\b\b\b\b\b\b\b\b\b\b\b\b\b\b\b\b\b\b\b\r\u001b[1m105/105\u001b[0m \u001b[32m━━━━━━━━━━━━━━━━━━━━\u001b[0m\u001b[37m\u001b[0m \u001b[1m1s\u001b[0m 8ms/step - accuracy: 0.5995 - loss: 1.1817 - val_accuracy: 0.8262 - val_loss: 0.7399\n",
            "Epoch 11/50\n",
            "\u001b[1m101/105\u001b[0m \u001b[32m━━━━━━━━━━━━━━━━━━━\u001b[0m\u001b[37m━\u001b[0m \u001b[1m0s\u001b[0m 5ms/step - accuracy: 0.6474 - loss: 1.0741\n",
            "Epoch 11: val_accuracy improved from 0.82619 to 0.86190, saving model to /content/drive/MyDrive/NITDGP/TL Variations /10+3Classes/FT_model_13class.h5\n"
          ]
        },
        {
          "output_type": "stream",
          "name": "stderr",
          "text": [
            "WARNING:absl:You are saving your model as an HDF5 file via `model.save()` or `keras.saving.save_model(model)`. This file format is considered legacy. We recommend using instead the native Keras format, e.g. `model.save('my_model.keras')` or `keras.saving.save_model(model, 'my_model.keras')`. \n"
          ]
        },
        {
          "output_type": "stream",
          "name": "stdout",
          "text": [
            "\b\b\b\b\b\b\b\b\b\b\b\b\b\b\b\b\b\b\b\b\b\b\b\b\b\b\b\b\b\b\b\b\b\b\b\b\b\b\b\b\b\b\b\b\b\b\b\b\b\b\b\b\b\b\b\b\b\b\b\b\b\b\b\b\b\b\b\b\b\b\b\b\b\b\r\u001b[1m105/105\u001b[0m \u001b[32m━━━━━━━━━━━━━━━━━━━━\u001b[0m\u001b[37m\u001b[0m \u001b[1m1s\u001b[0m 8ms/step - accuracy: 0.6474 - loss: 1.0723 - val_accuracy: 0.8619 - val_loss: 0.6605\n",
            "Epoch 12/50\n",
            "\u001b[1m 95/105\u001b[0m \u001b[32m━━━━━━━━━━━━━━━━━━\u001b[0m\u001b[37m━━\u001b[0m \u001b[1m0s\u001b[0m 5ms/step - accuracy: 0.6745 - loss: 0.9924\n",
            "Epoch 12: val_accuracy did not improve from 0.86190\n",
            "\u001b[1m105/105\u001b[0m \u001b[32m━━━━━━━━━━━━━━━━━━━━\u001b[0m\u001b[37m\u001b[0m \u001b[1m1s\u001b[0m 7ms/step - accuracy: 0.6748 - loss: 0.9884 - val_accuracy: 0.8179 - val_loss: 0.6114\n",
            "Epoch 13/50\n",
            "\u001b[1m100/105\u001b[0m \u001b[32m━━━━━━━━━━━━━━━━━━━\u001b[0m\u001b[37m━\u001b[0m \u001b[1m0s\u001b[0m 5ms/step - accuracy: 0.6640 - loss: 0.9400\n",
            "Epoch 13: val_accuracy did not improve from 0.86190\n",
            "\u001b[1m105/105\u001b[0m \u001b[32m━━━━━━━━━━━━━━━━━━━━\u001b[0m\u001b[37m\u001b[0m \u001b[1m1s\u001b[0m 7ms/step - accuracy: 0.6655 - loss: 0.9367 - val_accuracy: 0.8417 - val_loss: 0.5737\n",
            "Epoch 14/50\n",
            "\u001b[1m102/105\u001b[0m \u001b[32m━━━━━━━━━━━━━━━━━━━\u001b[0m\u001b[37m━\u001b[0m \u001b[1m0s\u001b[0m 5ms/step - accuracy: 0.7063 - loss: 0.8513\n",
            "Epoch 14: val_accuracy did not improve from 0.86190\n",
            "\u001b[1m105/105\u001b[0m \u001b[32m━━━━━━━━━━━━━━━━━━━━\u001b[0m\u001b[37m\u001b[0m \u001b[1m1s\u001b[0m 9ms/step - accuracy: 0.7067 - loss: 0.8496 - val_accuracy: 0.8238 - val_loss: 0.5406\n",
            "Epoch 15/50\n",
            "\u001b[1m100/105\u001b[0m \u001b[32m━━━━━━━━━━━━━━━━━━━\u001b[0m\u001b[37m━\u001b[0m \u001b[1m0s\u001b[0m 6ms/step - accuracy: 0.7183 - loss: 0.7987\n",
            "Epoch 15: val_accuracy did not improve from 0.86190\n",
            "\u001b[1m105/105\u001b[0m \u001b[32m━━━━━━━━━━━━━━━━━━━━\u001b[0m\u001b[37m\u001b[0m \u001b[1m1s\u001b[0m 8ms/step - accuracy: 0.7185 - loss: 0.7971 - val_accuracy: 0.8536 - val_loss: 0.5125\n",
            "Epoch 16/50\n",
            "\u001b[1m101/105\u001b[0m \u001b[32m━━━━━━━━━━━━━━━━━━━\u001b[0m\u001b[37m━\u001b[0m \u001b[1m0s\u001b[0m 5ms/step - accuracy: 0.7455 - loss: 0.7370\n",
            "Epoch 16: val_accuracy did not improve from 0.86190\n",
            "\u001b[1m105/105\u001b[0m \u001b[32m━━━━━━━━━━━━━━━━━━━━\u001b[0m\u001b[37m\u001b[0m \u001b[1m1s\u001b[0m 9ms/step - accuracy: 0.7458 - loss: 0.7360 - val_accuracy: 0.8488 - val_loss: 0.4873\n",
            "Epoch 17/50\n",
            "\u001b[1m100/105\u001b[0m \u001b[32m━━━━━━━━━━━━━━━━━━━\u001b[0m\u001b[37m━\u001b[0m \u001b[1m0s\u001b[0m 6ms/step - accuracy: 0.7688 - loss: 0.6517\n",
            "Epoch 17: val_accuracy did not improve from 0.86190\n",
            "\u001b[1m105/105\u001b[0m \u001b[32m━━━━━━━━━━━━━━━━━━━━\u001b[0m\u001b[37m\u001b[0m \u001b[1m1s\u001b[0m 10ms/step - accuracy: 0.7685 - loss: 0.6530 - val_accuracy: 0.8512 - val_loss: 0.4573\n",
            "Epoch 18/50\n",
            "\u001b[1m102/105\u001b[0m \u001b[32m━━━━━━━━━━━━━━━━━━━\u001b[0m\u001b[37m━\u001b[0m \u001b[1m0s\u001b[0m 7ms/step - accuracy: 0.7746 - loss: 0.6596\n",
            "Epoch 18: val_accuracy improved from 0.86190 to 0.86310, saving model to /content/drive/MyDrive/NITDGP/TL Variations /10+3Classes/FT_model_13class.h5\n"
          ]
        },
        {
          "output_type": "stream",
          "name": "stderr",
          "text": [
            "WARNING:absl:You are saving your model as an HDF5 file via `model.save()` or `keras.saving.save_model(model)`. This file format is considered legacy. We recommend using instead the native Keras format, e.g. `model.save('my_model.keras')` or `keras.saving.save_model(model, 'my_model.keras')`. \n"
          ]
        },
        {
          "output_type": "stream",
          "name": "stdout",
          "text": [
            "\b\b\b\b\b\b\b\b\b\b\b\b\b\b\b\b\b\b\b\b\b\b\b\b\b\b\b\b\b\b\b\b\b\b\b\b\b\b\b\b\b\b\b\b\b\b\b\b\b\b\b\b\b\b\b\b\b\b\b\b\b\b\b\b\b\b\b\b\b\b\b\b\b\b\r\u001b[1m105/105\u001b[0m \u001b[32m━━━━━━━━━━━━━━━━━━━━\u001b[0m\u001b[37m\u001b[0m \u001b[1m1s\u001b[0m 12ms/step - accuracy: 0.7748 - loss: 0.6585 - val_accuracy: 0.8631 - val_loss: 0.4400\n",
            "Epoch 19/50\n",
            "\u001b[1m105/105\u001b[0m \u001b[32m━━━━━━━━━━━━━━━━━━━━\u001b[0m\u001b[37m\u001b[0m \u001b[1m0s\u001b[0m 6ms/step - accuracy: 0.7781 - loss: 0.6119\n",
            "Epoch 19: val_accuracy did not improve from 0.86310\n",
            "\u001b[1m105/105\u001b[0m \u001b[32m━━━━━━━━━━━━━━━━━━━━\u001b[0m\u001b[37m\u001b[0m \u001b[1m2s\u001b[0m 8ms/step - accuracy: 0.7781 - loss: 0.6118 - val_accuracy: 0.8619 - val_loss: 0.4271\n",
            "Epoch 20/50\n",
            "\u001b[1m101/105\u001b[0m \u001b[32m━━━━━━━━━━━━━━━━━━━\u001b[0m\u001b[37m━\u001b[0m \u001b[1m0s\u001b[0m 5ms/step - accuracy: 0.7872 - loss: 0.5825\n",
            "Epoch 20: val_accuracy improved from 0.86310 to 0.86429, saving model to /content/drive/MyDrive/NITDGP/TL Variations /10+3Classes/FT_model_13class.h5\n"
          ]
        },
        {
          "output_type": "stream",
          "name": "stderr",
          "text": [
            "WARNING:absl:You are saving your model as an HDF5 file via `model.save()` or `keras.saving.save_model(model)`. This file format is considered legacy. We recommend using instead the native Keras format, e.g. `model.save('my_model.keras')` or `keras.saving.save_model(model, 'my_model.keras')`. \n"
          ]
        },
        {
          "output_type": "stream",
          "name": "stdout",
          "text": [
            "\b\b\b\b\b\b\b\b\b\b\b\b\b\b\b\b\b\b\b\b\b\b\b\b\b\b\b\b\b\b\b\b\b\b\b\b\b\b\b\b\b\b\b\b\b\b\b\b\b\b\b\b\b\b\b\b\b\b\b\b\b\b\b\b\b\b\b\b\b\b\b\b\b\b\r\u001b[1m105/105\u001b[0m \u001b[32m━━━━━━━━━━━━━━━━━━━━\u001b[0m\u001b[37m\u001b[0m \u001b[1m1s\u001b[0m 10ms/step - accuracy: 0.7869 - loss: 0.5827 - val_accuracy: 0.8643 - val_loss: 0.4179\n",
            "Epoch 21/50\n",
            "\u001b[1m103/105\u001b[0m \u001b[32m━━━━━━━━━━━━━━━━━━━\u001b[0m\u001b[37m━\u001b[0m \u001b[1m0s\u001b[0m 5ms/step - accuracy: 0.8002 - loss: 0.5744\n",
            "Epoch 21: val_accuracy did not improve from 0.86429\n",
            "\u001b[1m105/105\u001b[0m \u001b[32m━━━━━━━━━━━━━━━━━━━━\u001b[0m\u001b[37m\u001b[0m \u001b[1m1s\u001b[0m 7ms/step - accuracy: 0.8002 - loss: 0.5746 - val_accuracy: 0.8643 - val_loss: 0.4109\n",
            "Epoch 22/50\n",
            "\u001b[1m 97/105\u001b[0m \u001b[32m━━━━━━━━━━━━━━━━━━\u001b[0m\u001b[37m━━\u001b[0m \u001b[1m0s\u001b[0m 5ms/step - accuracy: 0.8025 - loss: 0.5542\n",
            "Epoch 22: val_accuracy improved from 0.86429 to 0.87024, saving model to /content/drive/MyDrive/NITDGP/TL Variations /10+3Classes/FT_model_13class.h5\n"
          ]
        },
        {
          "output_type": "stream",
          "name": "stderr",
          "text": [
            "WARNING:absl:You are saving your model as an HDF5 file via `model.save()` or `keras.saving.save_model(model)`. This file format is considered legacy. We recommend using instead the native Keras format, e.g. `model.save('my_model.keras')` or `keras.saving.save_model(model, 'my_model.keras')`. \n"
          ]
        },
        {
          "output_type": "stream",
          "name": "stdout",
          "text": [
            "\b\b\b\b\b\b\b\b\b\b\b\b\b\b\b\b\b\b\b\b\b\b\b\b\b\b\b\b\b\b\b\b\b\b\b\b\b\b\b\b\b\b\b\b\b\b\b\b\b\b\b\b\b\b\b\b\b\b\b\b\b\b\b\b\b\b\b\b\b\b\b\b\b\b\r\u001b[1m105/105\u001b[0m \u001b[32m━━━━━━━━━━━━━━━━━━━━\u001b[0m\u001b[37m\u001b[0m \u001b[1m1s\u001b[0m 8ms/step - accuracy: 0.8024 - loss: 0.5541 - val_accuracy: 0.8702 - val_loss: 0.4014\n",
            "Epoch 23/50\n",
            "\u001b[1m101/105\u001b[0m \u001b[32m━━━━━━━━━━━━━━━━━━━\u001b[0m\u001b[37m━\u001b[0m \u001b[1m0s\u001b[0m 5ms/step - accuracy: 0.8044 - loss: 0.5363\n",
            "Epoch 23: val_accuracy did not improve from 0.87024\n",
            "\u001b[1m105/105\u001b[0m \u001b[32m━━━━━━━━━━━━━━━━━━━━\u001b[0m\u001b[37m\u001b[0m \u001b[1m1s\u001b[0m 7ms/step - accuracy: 0.8041 - loss: 0.5379 - val_accuracy: 0.8643 - val_loss: 0.3985\n",
            "Epoch 24/50\n",
            "\u001b[1m 98/105\u001b[0m \u001b[32m━━━━━━━━━━━━━━━━━━\u001b[0m\u001b[37m━━\u001b[0m \u001b[1m0s\u001b[0m 5ms/step - accuracy: 0.8133 - loss: 0.5506\n",
            "Epoch 24: val_accuracy improved from 0.87024 to 0.87500, saving model to /content/drive/MyDrive/NITDGP/TL Variations /10+3Classes/FT_model_13class.h5\n"
          ]
        },
        {
          "output_type": "stream",
          "name": "stderr",
          "text": [
            "WARNING:absl:You are saving your model as an HDF5 file via `model.save()` or `keras.saving.save_model(model)`. This file format is considered legacy. We recommend using instead the native Keras format, e.g. `model.save('my_model.keras')` or `keras.saving.save_model(model, 'my_model.keras')`. \n"
          ]
        },
        {
          "output_type": "stream",
          "name": "stdout",
          "text": [
            "\b\b\b\b\b\b\b\b\b\b\b\b\b\b\b\b\b\b\b\b\b\b\b\b\b\b\b\b\b\b\b\b\b\b\b\b\b\b\b\b\b\b\b\b\b\b\b\b\b\b\b\b\b\b\b\b\b\b\b\b\b\b\b\b\b\b\b\b\b\b\b\b\b\b\r\u001b[1m105/105\u001b[0m \u001b[32m━━━━━━━━━━━━━━━━━━━━\u001b[0m\u001b[37m\u001b[0m \u001b[1m1s\u001b[0m 8ms/step - accuracy: 0.8133 - loss: 0.5487 - val_accuracy: 0.8750 - val_loss: 0.3898\n",
            "Epoch 25/50\n",
            "\u001b[1m101/105\u001b[0m \u001b[32m━━━━━━━━━━━━━━━━━━━\u001b[0m\u001b[37m━\u001b[0m \u001b[1m0s\u001b[0m 5ms/step - accuracy: 0.8143 - loss: 0.5075\n",
            "Epoch 25: val_accuracy did not improve from 0.87500\n",
            "\u001b[1m105/105\u001b[0m \u001b[32m━━━━━━━━━━━━━━━━━━━━\u001b[0m\u001b[37m\u001b[0m \u001b[1m1s\u001b[0m 7ms/step - accuracy: 0.8142 - loss: 0.5073 - val_accuracy: 0.8750 - val_loss: 0.3850\n",
            "Epoch 26/50\n",
            "\u001b[1m 99/105\u001b[0m \u001b[32m━━━━━━━━━━━━━━━━━━\u001b[0m\u001b[37m━━\u001b[0m \u001b[1m0s\u001b[0m 5ms/step - accuracy: 0.8192 - loss: 0.5034\n",
            "Epoch 26: val_accuracy improved from 0.87500 to 0.87738, saving model to /content/drive/MyDrive/NITDGP/TL Variations /10+3Classes/FT_model_13class.h5\n"
          ]
        },
        {
          "output_type": "stream",
          "name": "stderr",
          "text": [
            "WARNING:absl:You are saving your model as an HDF5 file via `model.save()` or `keras.saving.save_model(model)`. This file format is considered legacy. We recommend using instead the native Keras format, e.g. `model.save('my_model.keras')` or `keras.saving.save_model(model, 'my_model.keras')`. \n"
          ]
        },
        {
          "output_type": "stream",
          "name": "stdout",
          "text": [
            "\b\b\b\b\b\b\b\b\b\b\b\b\b\b\b\b\b\b\b\b\b\b\b\b\b\b\b\b\b\b\b\b\b\b\b\b\b\b\b\b\b\b\b\b\b\b\b\b\b\b\b\b\b\b\b\b\b\b\b\b\b\b\b\b\b\b\b\b\b\b\b\b\b\b\r\u001b[1m105/105\u001b[0m \u001b[32m━━━━━━━━━━━━━━━━━━━━\u001b[0m\u001b[37m\u001b[0m \u001b[1m1s\u001b[0m 8ms/step - accuracy: 0.8193 - loss: 0.5029 - val_accuracy: 0.8774 - val_loss: 0.3804\n",
            "Epoch 27/50\n",
            "\u001b[1m103/105\u001b[0m \u001b[32m━━━━━━━━━━━━━━━━━━━\u001b[0m\u001b[37m━\u001b[0m \u001b[1m0s\u001b[0m 6ms/step - accuracy: 0.8203 - loss: 0.5071\n",
            "Epoch 27: val_accuracy improved from 0.87738 to 0.88452, saving model to /content/drive/MyDrive/NITDGP/TL Variations /10+3Classes/FT_model_13class.h5\n"
          ]
        },
        {
          "output_type": "stream",
          "name": "stderr",
          "text": [
            "WARNING:absl:You are saving your model as an HDF5 file via `model.save()` or `keras.saving.save_model(model)`. This file format is considered legacy. We recommend using instead the native Keras format, e.g. `model.save('my_model.keras')` or `keras.saving.save_model(model, 'my_model.keras')`. \n"
          ]
        },
        {
          "output_type": "stream",
          "name": "stdout",
          "text": [
            "\b\b\b\b\b\b\b\b\b\b\b\b\b\b\b\b\b\b\b\b\b\b\b\b\b\b\b\b\b\b\b\b\b\b\b\b\b\b\b\b\b\b\b\b\b\b\b\b\b\b\b\b\b\b\b\b\b\b\b\b\b\b\b\b\b\b\b\b\b\b\b\b\b\b\r\u001b[1m105/105\u001b[0m \u001b[32m━━━━━━━━━━━━━━━━━━━━\u001b[0m\u001b[37m\u001b[0m \u001b[1m1s\u001b[0m 9ms/step - accuracy: 0.8206 - loss: 0.5063 - val_accuracy: 0.8845 - val_loss: 0.3743\n",
            "Epoch 28/50\n",
            "\u001b[1m100/105\u001b[0m \u001b[32m━━━━━━━━━━━━━━━━━━━\u001b[0m\u001b[37m━\u001b[0m \u001b[1m0s\u001b[0m 6ms/step - accuracy: 0.8208 - loss: 0.4992\n",
            "Epoch 28: val_accuracy did not improve from 0.88452\n",
            "\u001b[1m105/105\u001b[0m \u001b[32m━━━━━━━━━━━━━━━━━━━━\u001b[0m\u001b[37m\u001b[0m \u001b[1m1s\u001b[0m 10ms/step - accuracy: 0.8212 - loss: 0.4979 - val_accuracy: 0.8821 - val_loss: 0.3763\n",
            "Epoch 29/50\n",
            "\u001b[1m103/105\u001b[0m \u001b[32m━━━━━━━━━━━━━━━━━━━\u001b[0m\u001b[37m━\u001b[0m \u001b[1m0s\u001b[0m 7ms/step - accuracy: 0.8224 - loss: 0.4944\n",
            "Epoch 29: val_accuracy improved from 0.88452 to 0.89048, saving model to /content/drive/MyDrive/NITDGP/TL Variations /10+3Classes/FT_model_13class.h5\n"
          ]
        },
        {
          "output_type": "stream",
          "name": "stderr",
          "text": [
            "WARNING:absl:You are saving your model as an HDF5 file via `model.save()` or `keras.saving.save_model(model)`. This file format is considered legacy. We recommend using instead the native Keras format, e.g. `model.save('my_model.keras')` or `keras.saving.save_model(model, 'my_model.keras')`. \n"
          ]
        },
        {
          "output_type": "stream",
          "name": "stdout",
          "text": [
            "\b\b\b\b\b\b\b\b\b\b\b\b\b\b\b\b\b\b\b\b\b\b\b\b\b\b\b\b\b\b\b\b\b\b\b\b\b\b\b\b\b\b\b\b\b\b\b\b\b\b\b\b\b\b\b\b\b\b\b\b\b\b\b\b\b\b\b\b\b\b\b\b\b\b\r\u001b[1m105/105\u001b[0m \u001b[32m━━━━━━━━━━━━━━━━━━━━\u001b[0m\u001b[37m\u001b[0m \u001b[1m1s\u001b[0m 12ms/step - accuracy: 0.8225 - loss: 0.4939 - val_accuracy: 0.8905 - val_loss: 0.3675\n",
            "Epoch 30/50\n",
            "\u001b[1m102/105\u001b[0m \u001b[32m━━━━━━━━━━━━━━━━━━━\u001b[0m\u001b[37m━\u001b[0m \u001b[1m0s\u001b[0m 6ms/step - accuracy: 0.8473 - loss: 0.4327\n",
            "Epoch 30: val_accuracy did not improve from 0.89048\n",
            "\u001b[1m105/105\u001b[0m \u001b[32m━━━━━━━━━━━━━━━━━━━━\u001b[0m\u001b[37m\u001b[0m \u001b[1m2s\u001b[0m 7ms/step - accuracy: 0.8470 - loss: 0.4332 - val_accuracy: 0.8905 - val_loss: 0.3600\n",
            "Epoch 31/50\n",
            "\u001b[1m100/105\u001b[0m \u001b[32m━━━━━━━━━━━━━━━━━━━\u001b[0m\u001b[37m━\u001b[0m \u001b[1m0s\u001b[0m 5ms/step - accuracy: 0.8387 - loss: 0.4554\n",
            "Epoch 31: val_accuracy improved from 0.89048 to 0.89286, saving model to /content/drive/MyDrive/NITDGP/TL Variations /10+3Classes/FT_model_13class.h5\n"
          ]
        },
        {
          "output_type": "stream",
          "name": "stderr",
          "text": [
            "WARNING:absl:You are saving your model as an HDF5 file via `model.save()` or `keras.saving.save_model(model)`. This file format is considered legacy. We recommend using instead the native Keras format, e.g. `model.save('my_model.keras')` or `keras.saving.save_model(model, 'my_model.keras')`. \n"
          ]
        },
        {
          "output_type": "stream",
          "name": "stdout",
          "text": [
            "\b\b\b\b\b\b\b\b\b\b\b\b\b\b\b\b\b\b\b\b\b\b\b\b\b\b\b\b\b\b\b\b\b\b\b\b\b\b\b\b\b\b\b\b\b\b\b\b\b\b\b\b\b\b\b\b\b\b\b\b\b\b\b\b\b\b\b\b\b\b\b\b\b\b\r\u001b[1m105/105\u001b[0m \u001b[32m━━━━━━━━━━━━━━━━━━━━\u001b[0m\u001b[37m\u001b[0m \u001b[1m1s\u001b[0m 8ms/step - accuracy: 0.8391 - loss: 0.4543 - val_accuracy: 0.8929 - val_loss: 0.3537\n",
            "Epoch 32/50\n",
            "\u001b[1m101/105\u001b[0m \u001b[32m━━━━━━━━━━━━━━━━━━━\u001b[0m\u001b[37m━\u001b[0m \u001b[1m0s\u001b[0m 5ms/step - accuracy: 0.8473 - loss: 0.4545\n",
            "Epoch 32: val_accuracy improved from 0.89286 to 0.90119, saving model to /content/drive/MyDrive/NITDGP/TL Variations /10+3Classes/FT_model_13class.h5\n"
          ]
        },
        {
          "output_type": "stream",
          "name": "stderr",
          "text": [
            "WARNING:absl:You are saving your model as an HDF5 file via `model.save()` or `keras.saving.save_model(model)`. This file format is considered legacy. We recommend using instead the native Keras format, e.g. `model.save('my_model.keras')` or `keras.saving.save_model(model, 'my_model.keras')`. \n"
          ]
        },
        {
          "output_type": "stream",
          "name": "stdout",
          "text": [
            "\b\b\b\b\b\b\b\b\b\b\b\b\b\b\b\b\b\b\b\b\b\b\b\b\b\b\b\b\b\b\b\b\b\b\b\b\b\b\b\b\b\b\b\b\b\b\b\b\b\b\b\b\b\b\b\b\b\b\b\b\b\b\b\b\b\b\b\b\b\b\b\b\b\b\r\u001b[1m105/105\u001b[0m \u001b[32m━━━━━━━━━━━━━━━━━━━━\u001b[0m\u001b[37m\u001b[0m \u001b[1m1s\u001b[0m 8ms/step - accuracy: 0.8474 - loss: 0.4537 - val_accuracy: 0.9012 - val_loss: 0.3508\n",
            "Epoch 33/50\n",
            "\u001b[1m101/105\u001b[0m \u001b[32m━━━━━━━━━━━━━━━━━━━\u001b[0m\u001b[37m━\u001b[0m \u001b[1m0s\u001b[0m 5ms/step - accuracy: 0.8488 - loss: 0.4704\n",
            "Epoch 33: val_accuracy did not improve from 0.90119\n",
            "\u001b[1m105/105\u001b[0m \u001b[32m━━━━━━━━━━━━━━━━━━━━\u001b[0m\u001b[37m\u001b[0m \u001b[1m1s\u001b[0m 7ms/step - accuracy: 0.8490 - loss: 0.4686 - val_accuracy: 0.9012 - val_loss: 0.3438\n",
            "Epoch 34/50\n",
            "\u001b[1m100/105\u001b[0m \u001b[32m━━━━━━━━━━━━━━━━━━━\u001b[0m\u001b[37m━\u001b[0m \u001b[1m0s\u001b[0m 5ms/step - accuracy: 0.8559 - loss: 0.3992\n",
            "Epoch 34: val_accuracy did not improve from 0.90119\n",
            "\u001b[1m105/105\u001b[0m \u001b[32m━━━━━━━━━━━━━━━━━━━━\u001b[0m\u001b[37m\u001b[0m \u001b[1m1s\u001b[0m 7ms/step - accuracy: 0.8560 - loss: 0.3996 - val_accuracy: 0.8988 - val_loss: 0.3372\n",
            "Epoch 35/50\n",
            "\u001b[1m103/105\u001b[0m \u001b[32m━━━━━━━━━━━━━━━━━━━\u001b[0m\u001b[37m━\u001b[0m \u001b[1m0s\u001b[0m 5ms/step - accuracy: 0.8822 - loss: 0.3878\n",
            "Epoch 35: val_accuracy did not improve from 0.90119\n",
            "\u001b[1m105/105\u001b[0m \u001b[32m━━━━━━━━━━━━━━━━━━━━\u001b[0m\u001b[37m\u001b[0m \u001b[1m1s\u001b[0m 7ms/step - accuracy: 0.8820 - loss: 0.3880 - val_accuracy: 0.8988 - val_loss: 0.3302\n",
            "Epoch 36/50\n",
            "\u001b[1m101/105\u001b[0m \u001b[32m━━━━━━━━━━━━━━━━━━━\u001b[0m\u001b[37m━\u001b[0m \u001b[1m0s\u001b[0m 5ms/step - accuracy: 0.8569 - loss: 0.3949\n",
            "Epoch 36: val_accuracy improved from 0.90119 to 0.90238, saving model to /content/drive/MyDrive/NITDGP/TL Variations /10+3Classes/FT_model_13class.h5\n"
          ]
        },
        {
          "output_type": "stream",
          "name": "stderr",
          "text": [
            "WARNING:absl:You are saving your model as an HDF5 file via `model.save()` or `keras.saving.save_model(model)`. This file format is considered legacy. We recommend using instead the native Keras format, e.g. `model.save('my_model.keras')` or `keras.saving.save_model(model, 'my_model.keras')`. \n"
          ]
        },
        {
          "output_type": "stream",
          "name": "stdout",
          "text": [
            "\b\b\b\b\b\b\b\b\b\b\b\b\b\b\b\b\b\b\b\b\b\b\b\b\b\b\b\b\b\b\b\b\b\b\b\b\b\b\b\b\b\b\b\b\b\b\b\b\b\b\b\b\b\b\b\b\b\b\b\b\b\b\b\b\b\b\b\b\b\b\b\b\b\b\r\u001b[1m105/105\u001b[0m \u001b[32m━━━━━━━━━━━━━━━━━━━━\u001b[0m\u001b[37m\u001b[0m \u001b[1m1s\u001b[0m 8ms/step - accuracy: 0.8571 - loss: 0.3955 - val_accuracy: 0.9024 - val_loss: 0.3249\n",
            "Epoch 37/50\n",
            "\u001b[1m 99/105\u001b[0m \u001b[32m━━━━━━━━━━━━━━━━━━\u001b[0m\u001b[37m━━\u001b[0m \u001b[1m0s\u001b[0m 5ms/step - accuracy: 0.8746 - loss: 0.3812\n",
            "Epoch 37: val_accuracy improved from 0.90238 to 0.90357, saving model to /content/drive/MyDrive/NITDGP/TL Variations /10+3Classes/FT_model_13class.h5\n"
          ]
        },
        {
          "output_type": "stream",
          "name": "stderr",
          "text": [
            "WARNING:absl:You are saving your model as an HDF5 file via `model.save()` or `keras.saving.save_model(model)`. This file format is considered legacy. We recommend using instead the native Keras format, e.g. `model.save('my_model.keras')` or `keras.saving.save_model(model, 'my_model.keras')`. \n"
          ]
        },
        {
          "output_type": "stream",
          "name": "stdout",
          "text": [
            "\b\b\b\b\b\b\b\b\b\b\b\b\b\b\b\b\b\b\b\b\b\b\b\b\b\b\b\b\b\b\b\b\b\b\b\b\b\b\b\b\b\b\b\b\b\b\b\b\b\b\b\b\b\b\b\b\b\b\b\b\b\b\b\b\b\b\b\b\b\b\b\b\b\b\r\u001b[1m105/105\u001b[0m \u001b[32m━━━━━━━━━━━━━━━━━━━━\u001b[0m\u001b[37m\u001b[0m \u001b[1m1s\u001b[0m 8ms/step - accuracy: 0.8742 - loss: 0.3815 - val_accuracy: 0.9036 - val_loss: 0.3188\n",
            "Epoch 38/50\n",
            "\u001b[1m102/105\u001b[0m \u001b[32m━━━━━━━━━━━━━━━━━━━\u001b[0m\u001b[37m━\u001b[0m \u001b[1m0s\u001b[0m 5ms/step - accuracy: 0.8732 - loss: 0.3985\n",
            "Epoch 38: val_accuracy did not improve from 0.90357\n",
            "\u001b[1m105/105\u001b[0m \u001b[32m━━━━━━━━━━━━━━━━━━━━\u001b[0m\u001b[37m\u001b[0m \u001b[1m1s\u001b[0m 7ms/step - accuracy: 0.8733 - loss: 0.3978 - val_accuracy: 0.8988 - val_loss: 0.3145\n",
            "Epoch 39/50\n",
            "\u001b[1m100/105\u001b[0m \u001b[32m━━━━━━━━━━━━━━━━━━━\u001b[0m\u001b[37m━\u001b[0m \u001b[1m0s\u001b[0m 5ms/step - accuracy: 0.8804 - loss: 0.3705\n",
            "Epoch 39: val_accuracy did not improve from 0.90357\n",
            "\u001b[1m105/105\u001b[0m \u001b[32m━━━━━━━━━━━━━━━━━━━━\u001b[0m\u001b[37m\u001b[0m \u001b[1m1s\u001b[0m 7ms/step - accuracy: 0.8806 - loss: 0.3701 - val_accuracy: 0.9036 - val_loss: 0.3071\n",
            "Epoch 40/50\n",
            "\u001b[1m103/105\u001b[0m \u001b[32m━━━━━━━━━━━━━━━━━━━\u001b[0m\u001b[37m━\u001b[0m \u001b[1m0s\u001b[0m 7ms/step - accuracy: 0.8880 - loss: 0.3424\n",
            "Epoch 40: val_accuracy improved from 0.90357 to 0.90714, saving model to /content/drive/MyDrive/NITDGP/TL Variations /10+3Classes/FT_model_13class.h5\n"
          ]
        },
        {
          "output_type": "stream",
          "name": "stderr",
          "text": [
            "WARNING:absl:You are saving your model as an HDF5 file via `model.save()` or `keras.saving.save_model(model)`. This file format is considered legacy. We recommend using instead the native Keras format, e.g. `model.save('my_model.keras')` or `keras.saving.save_model(model, 'my_model.keras')`. \n"
          ]
        },
        {
          "output_type": "stream",
          "name": "stdout",
          "text": [
            "\b\b\b\b\b\b\b\b\b\b\b\b\b\b\b\b\b\b\b\b\b\b\b\b\b\b\b\b\b\b\b\b\b\b\b\b\b\b\b\b\b\b\b\b\b\b\b\b\b\b\b\b\b\b\b\b\b\b\b\b\b\b\b\b\b\b\b\b\b\b\b\b\b\b\r\u001b[1m105/105\u001b[0m \u001b[32m━━━━━━━━━━━━━━━━━━━━\u001b[0m\u001b[37m\u001b[0m \u001b[1m1s\u001b[0m 11ms/step - accuracy: 0.8879 - loss: 0.3428 - val_accuracy: 0.9071 - val_loss: 0.3040\n",
            "Epoch 41/50\n",
            "\u001b[1m101/105\u001b[0m \u001b[32m━━━━━━━━━━━━━━━━━━━\u001b[0m\u001b[37m━\u001b[0m \u001b[1m0s\u001b[0m 7ms/step - accuracy: 0.8778 - loss: 0.3855\n",
            "Epoch 41: val_accuracy improved from 0.90714 to 0.90952, saving model to /content/drive/MyDrive/NITDGP/TL Variations /10+3Classes/FT_model_13class.h5\n"
          ]
        },
        {
          "output_type": "stream",
          "name": "stderr",
          "text": [
            "WARNING:absl:You are saving your model as an HDF5 file via `model.save()` or `keras.saving.save_model(model)`. This file format is considered legacy. We recommend using instead the native Keras format, e.g. `model.save('my_model.keras')` or `keras.saving.save_model(model, 'my_model.keras')`. \n"
          ]
        },
        {
          "output_type": "stream",
          "name": "stdout",
          "text": [
            "\b\b\b\b\b\b\b\b\b\b\b\b\b\b\b\b\b\b\b\b\b\b\b\b\b\b\b\b\b\b\b\b\b\b\b\b\b\b\b\b\b\b\b\b\b\b\b\b\b\b\b\b\b\b\b\b\b\b\b\b\b\b\b\b\b\b\b\b\b\b\b\b\b\b\r\u001b[1m105/105\u001b[0m \u001b[32m━━━━━━━━━━━━━━━━━━━━\u001b[0m\u001b[37m\u001b[0m \u001b[1m1s\u001b[0m 10ms/step - accuracy: 0.8783 - loss: 0.3839 - val_accuracy: 0.9095 - val_loss: 0.2989\n",
            "Epoch 42/50\n",
            "\u001b[1m104/105\u001b[0m \u001b[32m━━━━━━━━━━━━━━━━━━━\u001b[0m\u001b[37m━\u001b[0m \u001b[1m0s\u001b[0m 7ms/step - accuracy: 0.8990 - loss: 0.3658\n",
            "Epoch 42: val_accuracy did not improve from 0.90952\n",
            "\u001b[1m105/105\u001b[0m \u001b[32m━━━━━━━━━━━━━━━━━━━━\u001b[0m\u001b[37m\u001b[0m \u001b[1m1s\u001b[0m 9ms/step - accuracy: 0.8989 - loss: 0.3658 - val_accuracy: 0.9095 - val_loss: 0.2957\n",
            "Epoch 43/50\n",
            "\u001b[1m 99/105\u001b[0m \u001b[32m━━━━━━━━━━━━━━━━━━\u001b[0m\u001b[37m━━\u001b[0m \u001b[1m0s\u001b[0m 5ms/step - accuracy: 0.9056 - loss: 0.3279\n",
            "Epoch 43: val_accuracy did not improve from 0.90952\n",
            "\u001b[1m105/105\u001b[0m \u001b[32m━━━━━━━━━━━━━━━━━━━━\u001b[0m\u001b[37m\u001b[0m \u001b[1m1s\u001b[0m 9ms/step - accuracy: 0.9055 - loss: 0.3291 - val_accuracy: 0.9095 - val_loss: 0.2924\n",
            "Epoch 44/50\n",
            "\u001b[1m 98/105\u001b[0m \u001b[32m━━━━━━━━━━━━━━━━━━\u001b[0m\u001b[37m━━\u001b[0m \u001b[1m0s\u001b[0m 6ms/step - accuracy: 0.9001 - loss: 0.3235\n",
            "Epoch 44: val_accuracy did not improve from 0.90952\n",
            "\u001b[1m105/105\u001b[0m \u001b[32m━━━━━━━━━━━━━━━━━━━━\u001b[0m\u001b[37m\u001b[0m \u001b[1m1s\u001b[0m 8ms/step - accuracy: 0.9000 - loss: 0.3246 - val_accuracy: 0.9083 - val_loss: 0.2913\n",
            "Epoch 45/50\n",
            "\u001b[1m 99/105\u001b[0m \u001b[32m━━━━━━━━━━━━━━━━━━\u001b[0m\u001b[37m━━\u001b[0m \u001b[1m0s\u001b[0m 5ms/step - accuracy: 0.8925 - loss: 0.3261\n",
            "Epoch 45: val_accuracy improved from 0.90952 to 0.91310, saving model to /content/drive/MyDrive/NITDGP/TL Variations /10+3Classes/FT_model_13class.h5\n"
          ]
        },
        {
          "output_type": "stream",
          "name": "stderr",
          "text": [
            "WARNING:absl:You are saving your model as an HDF5 file via `model.save()` or `keras.saving.save_model(model)`. This file format is considered legacy. We recommend using instead the native Keras format, e.g. `model.save('my_model.keras')` or `keras.saving.save_model(model, 'my_model.keras')`. \n"
          ]
        },
        {
          "output_type": "stream",
          "name": "stdout",
          "text": [
            "\b\b\b\b\b\b\b\b\b\b\b\b\b\b\b\b\b\b\b\b\b\b\b\b\b\b\b\b\b\b\b\b\b\b\b\b\b\b\b\b\b\b\b\b\b\b\b\b\b\b\b\b\b\b\b\b\b\b\b\b\b\b\b\b\b\b\b\b\b\b\b\b\b\b\r\u001b[1m105/105\u001b[0m \u001b[32m━━━━━━━━━━━━━━━━━━━━\u001b[0m\u001b[37m\u001b[0m \u001b[1m1s\u001b[0m 8ms/step - accuracy: 0.8928 - loss: 0.3266 - val_accuracy: 0.9131 - val_loss: 0.2915\n",
            "Epoch 46/50\n",
            "\u001b[1m101/105\u001b[0m \u001b[32m━━━━━━━━━━━━━━━━━━━\u001b[0m\u001b[37m━\u001b[0m \u001b[1m0s\u001b[0m 5ms/step - accuracy: 0.8891 - loss: 0.3627\n",
            "Epoch 46: val_accuracy did not improve from 0.91310\n",
            "\u001b[1m105/105\u001b[0m \u001b[32m━━━━━━━━━━━━━━━━━━━━\u001b[0m\u001b[37m\u001b[0m \u001b[1m1s\u001b[0m 7ms/step - accuracy: 0.8892 - loss: 0.3617 - val_accuracy: 0.9119 - val_loss: 0.2875\n",
            "Epoch 47/50\n",
            "\u001b[1m 98/105\u001b[0m \u001b[32m━━━━━━━━━━━━━━━━━━\u001b[0m\u001b[37m━━\u001b[0m \u001b[1m0s\u001b[0m 5ms/step - accuracy: 0.8872 - loss: 0.3589\n",
            "Epoch 47: val_accuracy did not improve from 0.91310\n",
            "\u001b[1m105/105\u001b[0m \u001b[32m━━━━━━━━━━━━━━━━━━━━\u001b[0m\u001b[37m\u001b[0m \u001b[1m1s\u001b[0m 7ms/step - accuracy: 0.8880 - loss: 0.3560 - val_accuracy: 0.9131 - val_loss: 0.2875\n",
            "Epoch 48/50\n",
            "\u001b[1m101/105\u001b[0m \u001b[32m━━━━━━━━━━━━━━━━━━━\u001b[0m\u001b[37m━\u001b[0m \u001b[1m0s\u001b[0m 5ms/step - accuracy: 0.9103 - loss: 0.3106\n",
            "Epoch 48: val_accuracy improved from 0.91310 to 0.91429, saving model to /content/drive/MyDrive/NITDGP/TL Variations /10+3Classes/FT_model_13class.h5\n"
          ]
        },
        {
          "output_type": "stream",
          "name": "stderr",
          "text": [
            "WARNING:absl:You are saving your model as an HDF5 file via `model.save()` or `keras.saving.save_model(model)`. This file format is considered legacy. We recommend using instead the native Keras format, e.g. `model.save('my_model.keras')` or `keras.saving.save_model(model, 'my_model.keras')`. \n"
          ]
        },
        {
          "output_type": "stream",
          "name": "stdout",
          "text": [
            "\b\b\b\b\b\b\b\b\b\b\b\b\b\b\b\b\b\b\b\b\b\b\b\b\b\b\b\b\b\b\b\b\b\b\b\b\b\b\b\b\b\b\b\b\b\b\b\b\b\b\b\b\b\b\b\b\b\b\b\b\b\b\b\b\b\b\b\b\b\b\b\b\b\b\r\u001b[1m105/105\u001b[0m \u001b[32m━━━━━━━━━━━━━━━━━━━━\u001b[0m\u001b[37m\u001b[0m \u001b[1m1s\u001b[0m 8ms/step - accuracy: 0.9102 - loss: 0.3118 - val_accuracy: 0.9143 - val_loss: 0.2841\n",
            "Epoch 49/50\n",
            "\u001b[1m 99/105\u001b[0m \u001b[32m━━━━━━━━━━━━━━━━━━\u001b[0m\u001b[37m━━\u001b[0m \u001b[1m0s\u001b[0m 5ms/step - accuracy: 0.9071 - loss: 0.3005\n",
            "Epoch 49: val_accuracy did not improve from 0.91429\n",
            "\u001b[1m105/105\u001b[0m \u001b[32m━━━━━━━━━━━━━━━━━━━━\u001b[0m\u001b[37m\u001b[0m \u001b[1m1s\u001b[0m 7ms/step - accuracy: 0.9071 - loss: 0.3004 - val_accuracy: 0.9143 - val_loss: 0.2812\n",
            "Epoch 50/50\n",
            "\u001b[1m101/105\u001b[0m \u001b[32m━━━━━━━━━━━━━━━━━━━\u001b[0m\u001b[37m━\u001b[0m \u001b[1m0s\u001b[0m 5ms/step - accuracy: 0.9127 - loss: 0.2990\n",
            "Epoch 50: val_accuracy improved from 0.91429 to 0.91548, saving model to /content/drive/MyDrive/NITDGP/TL Variations /10+3Classes/FT_model_13class.h5\n"
          ]
        },
        {
          "output_type": "stream",
          "name": "stderr",
          "text": [
            "WARNING:absl:You are saving your model as an HDF5 file via `model.save()` or `keras.saving.save_model(model)`. This file format is considered legacy. We recommend using instead the native Keras format, e.g. `model.save('my_model.keras')` or `keras.saving.save_model(model, 'my_model.keras')`. \n"
          ]
        },
        {
          "output_type": "stream",
          "name": "stdout",
          "text": [
            "\b\b\b\b\b\b\b\b\b\b\b\b\b\b\b\b\b\b\b\b\b\b\b\b\b\b\b\b\b\b\b\b\b\b\b\b\b\b\b\b\b\b\b\b\b\b\b\b\b\b\b\b\b\b\b\b\b\b\b\b\b\b\b\b\b\b\b\b\b\b\b\b\b\b\r\u001b[1m105/105\u001b[0m \u001b[32m━━━━━━━━━━━━━━━━━━━━\u001b[0m\u001b[37m\u001b[0m \u001b[1m1s\u001b[0m 8ms/step - accuracy: 0.9124 - loss: 0.2999 - val_accuracy: 0.9155 - val_loss: 0.2809\n"
          ]
        }
      ]
    },
    {
      "cell_type": "code",
      "source": [
        "test_loss, test_accuracy = tf_model.evaluate(X_val, y_val, verbose=1)\n",
        "print(f\"Test Accuracy: {test_accuracy:.2f}\")\n"
      ],
      "metadata": {
        "colab": {
          "base_uri": "https://localhost:8080/"
        },
        "id": "5BWm3wY5xyNE",
        "outputId": "e9e4e956-9d87-45e1-c6b0-24223e1f4483"
      },
      "execution_count": 74,
      "outputs": [
        {
          "output_type": "stream",
          "name": "stdout",
          "text": [
            "\u001b[1m27/27\u001b[0m \u001b[32m━━━━━━━━━━━━━━━━━━━━\u001b[0m\u001b[37m\u001b[0m \u001b[1m0s\u001b[0m 7ms/step - accuracy: 0.9486 - loss: 0.2773\n",
            "Test Accuracy: 0.95\n"
          ]
        }
      ]
    },
    {
      "cell_type": "code",
      "source": [
        "loss, acc = tf_model.evaluate(X_val, y_val)\n",
        "print(f\"\\nTest Accuracy: {acc * 100:.2f}%\")"
      ],
      "metadata": {
        "colab": {
          "base_uri": "https://localhost:8080/"
        },
        "id": "YcWrqova4Iaa",
        "outputId": "258a5a29-ef91-4828-f564-21e2fddb087e"
      },
      "execution_count": 151,
      "outputs": [
        {
          "output_type": "stream",
          "name": "stdout",
          "text": [
            "\u001b[1m27/27\u001b[0m \u001b[32m━━━━━━━━━━━━━━━━━━━━\u001b[0m\u001b[37m\u001b[0m \u001b[1m0s\u001b[0m 6ms/step - accuracy: 0.9110 - loss: 0.3036\n",
            "\n",
            "Test Accuracy: 91.55%\n"
          ]
        }
      ]
    },
    {
      "cell_type": "code",
      "source": [
        "import matplotlib.pyplot as plt\n",
        "\n",
        "def plot_training_history(history):\n",
        "    plt.figure(figsize=(12, 5))\n",
        "\n",
        "    # Accuracy\n",
        "    plt.subplot(1, 2, 1)\n",
        "    plt.plot(history.history['accuracy'], label='Train Accuracy')\n",
        "    plt.plot(history.history['val_accuracy'], label='Val Accuracy')\n",
        "    plt.title(\"Accuracy Over Epochs\")\n",
        "    plt.xlabel(\"Epochs\")\n",
        "    plt.ylabel(\"Accuracy\")\n",
        "    plt.legend()\n",
        "\n",
        "    # Loss\n",
        "    plt.subplot(1, 2, 2)\n",
        "    plt.plot(history.history['loss'], label='Train Loss')\n",
        "    plt.plot(history.history['val_loss'], label='Val Loss')\n",
        "    plt.title(\"Loss Over Epochs\")\n",
        "    plt.xlabel(\"Epochs\")\n",
        "    plt.ylabel(\"Loss\")\n",
        "    plt.legend()\n",
        "\n",
        "    plt.tight_layout()\n",
        "    plt.show()\n"
      ],
      "metadata": {
        "id": "gBifKWxw2PL4"
      },
      "execution_count": 152,
      "outputs": []
    },
    {
      "cell_type": "code",
      "source": [
        "plot_training_history(history)"
      ],
      "metadata": {
        "colab": {
          "base_uri": "https://localhost:8080/",
          "height": 476
        },
        "id": "O-bQ0j2e2YaB",
        "outputId": "b23b0fde-197f-4d22-a718-7f0b9562e170"
      },
      "execution_count": 153,
      "outputs": [
        {
          "output_type": "display_data",
          "data": {
            "text/plain": [
              "<Figure size 1200x500 with 2 Axes>"
            ],
            "image/png": "[encoded data removed]"
          },
          "metadata": {}
        }
      ]
    },
    {
      "cell_type": "code",
      "source": [
        "y_pred = tf_model.predict(X_val)\n",
        "y_pred_classes = np.argmax(y_pred, axis=1)\n",
        "y_true_classes = np.argmax(y_val, axis=1)"
      ],
      "metadata": {
        "colab": {
          "base_uri": "https://localhost:8080/"
        },
        "id": "E42BPpMl2a62",
        "outputId": "9aabff6f-08e9-4c40-e454-326500a72045"
      },
      "execution_count": 154,
      "outputs": [
        {
          "output_type": "stream",
          "name": "stdout",
          "text": [
            "\u001b[1m27/27\u001b[0m \u001b[32m━━━━━━━━━━━━━━━━━━━━\u001b[0m\u001b[37m\u001b[0m \u001b[1m1s\u001b[0m 25ms/step\n"
          ]
        }
      ]
    },
    {
      "cell_type": "code",
      "source": [
        "print(classification_report(y_true_classes, y_pred_classes, target_names=all_keywords))"
      ],
      "metadata": {
        "colab": {
          "base_uri": "https://localhost:8080/"
        },
        "id": "8JdJnGU-2daj",
        "outputId": "9b2f798b-918c-4640-dcb7-b0c45cdb6716"
      },
      "execution_count": 155,
      "outputs": [
        {
          "output_type": "stream",
          "name": "stdout",
          "text": [
            "              precision    recall  f1-score   support\n",
            "\n",
            "        tree       0.94      0.98      0.96        60\n",
            "      marvin       0.91      0.88      0.90        60\n",
            "         one       0.98      0.95      0.97        60\n",
            "         off       0.95      0.92      0.93        60\n",
            "        left       0.97      0.93      0.95        60\n",
            "        down       0.92      0.95      0.93        60\n",
            "          up       1.00      0.98      0.99        60\n",
            "          go       0.97      0.97      0.97        60\n",
            "          on       1.00      0.97      0.98        60\n",
            "        stop       0.84      0.92      0.88       100\n",
            "       right       0.82      0.82      0.82       100\n",
            "         yes       0.86      0.83      0.84       100\n",
            "\n",
            "    accuracy                           0.92       840\n",
            "   macro avg       0.93      0.93      0.93       840\n",
            "weighted avg       0.92      0.92      0.92       840\n",
            "\n"
          ]
        }
      ]
    },
    {
      "cell_type": "code",
      "source": [
        "import seaborn as sns\n",
        "\n",
        "cm = confusion_matrix(y_true_classes, y_pred_classes)\n",
        "plt.figure(figsize=(10, 8))\n",
        "sns.heatmap(cm, annot=True, fmt='d', cmap='Blues', xticklabels=all_keywords, yticklabels=all_keywords)\n",
        "plt.xlabel(\"Predicted\")\n",
        "plt.ylabel(\"True\")\n",
        "plt.title(\"Confusion Matrix\")\n",
        "plt.tight_layout()\n",
        "plt.show()\n"
      ],
      "metadata": {
        "colab": {
          "base_uri": "https://localhost:8080/",
          "height": 807
        },
        "id": "irvX_-4Q2mJb",
        "outputId": "0b07d8af-4279-46fc-a333-c800775ba353"
      },
      "execution_count": 156,
      "outputs": [
        {
          "output_type": "display_data",
          "data": {
            "text/plain": [
              "<Figure size 1000x800 with 2 Axes>"
            ],
            "image/png": "[encoded data removed]"
          },
          "metadata": {}
        }
      ]
    },
    {
      "cell_type": "code",
      "source": [],
      "metadata": {
        "id": "mWMPic922rDf"
      },
      "execution_count": null,
      "outputs": []
    }
  ]
}